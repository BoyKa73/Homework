{
  "nbformat": 4,
  "nbformat_minor": 0,
  "metadata": {
    "colab": {
      "provenance": [],
      "include_colab_link": true
    },
    "kernelspec": {
      "name": "python3",
      "display_name": "Python 3"
    },
    "language_info": {
      "name": "python"
    }
  },
  "cells": [
    {
      "cell_type": "markdown",
      "metadata": {
        "id": "view-in-github",
        "colab_type": "text"
      },
      "source": [
        "<a href=\"https://colab.research.google.com/github/BoyKa73/Homework/blob/main/if_else_hausaufgabe.ipynb\" target=\"_parent\"><img src=\"https://colab.research.google.com/assets/colab-badge.svg\" alt=\"Open In Colab\"/></a>"
      ]
    },
    {
      "cell_type": "markdown",
      "source": [
        "# Hausaufgabe\n",
        "Heute haben wir uns mit den Kontrollstrukturen in Python beschäftigt.\n",
        "Im Zuge dessen bearbeitest du heute Nachmittag weitere kleine Aufgaben zu diesem Thema. Nimm dieses Notebook und füge deinen Code hinzu an den passenden Stellen.\n",
        "**Abgabe**: Gehe oben links auf Datei, dann auf Herunterladen, dann auf .ipynb. Dann startet ein Download des Notebooks. Diese heruntergeladene Datei fügst du bitte als Abgabe in den Classroom ein.\n",
        "\n"
      ],
      "metadata": {
        "id": "32gVnQpZ7mQz"
      }
    },
    {
      "cell_type": "markdown",
      "source": [
        "## if-else\n",
        "### Aufgabe 1 (BMI-Index)\n",
        "Berechne den Body-Mass-Index (BMI) und klassifiziere ihn:\n",
        "- < 18.5: Untergewicht\n",
        "- 18.5 - 24.9: Normalgewicht\n",
        "- 25 - 29.9: Übergewicht\n",
        "- 30+: Adipositas\n",
        "\n",
        "Zusatzaufgabe: Füge eine input-Funktion hinzu, damit du beim Ausführen des Codes, eine Eingabe tätigen kannst.\n",
        "Hinweis: `kg = float(input(\"Bitte gib dein Gewicht ein: \"))`"
      ],
      "metadata": {
        "id": "9pZQdBfN8GDV"
      }
    },
    {
      "cell_type": "code",
      "source": [
        "Kg=float(input(\"Bitte gib dein Gewicht in kg an \"))\n",
        "Meter=float(input(\"Bitte gib deine Größe in m an \"))\n",
        "bmi = Kg / (Meter ** 2)\n",
        "if bmi < 18.5:\n",
        "  print(\"Untergewicht\")\n",
        "elif bmi < 24.9:\n",
        "  print(\"Normalgewicht\")\n",
        "elif bmi < 29.9:\n",
        "  print(\"Übergewicht\")\n",
        "if bmi > 30:\n",
        "  print (\"Adipositas\")\n",
        "\n",
        "\n",
        "\n",
        "\n"
      ],
      "metadata": {
        "id": "54YQr9hA8i95",
        "colab": {
          "base_uri": "https://localhost:8080/"
        },
        "outputId": "36702029-f41b-4a84-db80-b01de037ede8"
      },
      "execution_count": 17,
      "outputs": [
        {
          "output_type": "stream",
          "name": "stdout",
          "text": [
            "Bitte gib dein Gewicht in kg an 57\n",
            "Bitte gib deine Größe in m an 1.67\n",
            "Normalgewicht\n"
          ]
        }
      ]
    },
    {
      "cell_type": "markdown",
      "source": [
        "### Beispiel-Aufgabe zum Modulo-Operator (Division mit Rest)\n",
        "Schreibe ein Programm, das eine Zahl überprüft und ausgibt, ob die Zahl durch 3 teilbar ist.\n",
        "Modulo-Operator in Python --> `%`"
      ],
      "metadata": {
        "id": "Q-j4zOXLGJeP"
      }
    },
    {
      "cell_type": "code",
      "source": [
        "zahl = 6\n",
        "if ((zahl % 3) == 0):\n",
        "  print(\"Zahl ist durch 3 teilbar\")\n",
        "else:\n",
        "  print(\"Zahl ist nicht durch 3 teilbar\")"
      ],
      "metadata": {
        "colab": {
          "base_uri": "https://localhost:8080/"
        },
        "id": "U1Vm_NNfGWMi",
        "outputId": "b933e2c4-8a3d-4f33-f962-1411a48f6acf"
      },
      "execution_count": null,
      "outputs": [
        {
          "output_type": "stream",
          "name": "stdout",
          "text": [
            "Zahl ist durch 3 teilbar\n"
          ]
        }
      ]
    },
    {
      "cell_type": "markdown",
      "source": [
        "### Aufgabe 2 (Schaltjahr)\n",
        "Ein Jahr ist ein Schaltjahr, wenn es durch 4 teilbar (Achtung: modulo-Operator) ist, außer es ist durch 100 teilbar – außer es ist durch 400 teilbar.\n",
        "\n",
        "Zusatzaufgabe: Füge eine input-Funktion hinzu, damit du beim Ausführen des Codes, eine Eingabe tätigen kannst."
      ],
      "metadata": {
        "id": "Tz0qkYnt8jIk"
      }
    },
    {
      "cell_type": "code",
      "source": [
        "Schaltjahr=int(input(\"Gib ein Jahr ein: \"))\n",
        "if ((Schaltjahr % 4 == 0 and Schaltjahr %100 !=0) or (Schaltjahr %400 == 0)):\n",
        "  print(\"Das Jahr ist ein Schaltjahr\")\n",
        "else:\n",
        "  print(\"Info: Das Jahr ist kein Schaltjahr\")\n",
        "\n",
        "\n",
        "\n"
      ],
      "metadata": {
        "id": "Yj2Kb2rG8rhM",
        "colab": {
          "base_uri": "https://localhost:8080/"
        },
        "outputId": "fbb2e9a1-20f4-4f27-87aa-c56583a59648"
      },
      "execution_count": 16,
      "outputs": [
        {
          "output_type": "stream",
          "name": "stdout",
          "text": [
            "Gib ein Jahr ein: 1977\n",
            "Info: Das Jahr ist kein Schaltjahr\n"
          ]
        }
      ]
    },
    {
      "cell_type": "markdown",
      "source": [
        "### Aufgabe 3 (Rabatt)\n",
        "Wenn ein Einkaufswert über 100€ liegt, gibt es 10% Rabatt, ansonsten keinen. Berechne den Endpreis.\n",
        "Zusatzaufgabe: Füge eine input-Funktion hinzu, damit du beim Ausführen des Codes, eine Eingabe tätigen kannst."
      ],
      "metadata": {
        "id": "aIckDaYu8sBi"
      }
    },
    {
      "cell_type": "code",
      "source": [
        "Original_Preis =float(input(\"Geben Sie den Preis in € ein: \"))\n",
        "if (Original_Preis >= 100):\n",
        "  print(\"Ihr Preis beträgt €: \", Original_Preis *0.9)\n",
        "elif (Original_Preis < 100):\n",
        "  print(\"Ihr Preis beträgt €: \",Original_Preis)\n",
        "\n",
        ""
      ],
      "metadata": {
        "id": "iplaWFpB8ycy",
        "colab": {
          "base_uri": "https://localhost:8080/"
        },
        "outputId": "af3f60c1-d06f-48a7-db9b-c8c4edd07e8e"
      },
      "execution_count": 44,
      "outputs": [
        {
          "output_type": "stream",
          "name": "stdout",
          "text": [
            "Geben Sie den Preis in € ein: 183.99\n",
            "Ihr Preis beträgt €:  165.591\n"
          ]
        }
      ]
    },
    {
      "cell_type": "markdown",
      "source": [
        "## Datentypen\n",
        "### Aufgabe 1\n",
        "Initialisiere Variablen mit den Werten\n",
        "- 42\n",
        "- 3.14\n",
        "- \"Hallo Welt\"\n",
        "- True\n",
        "- [1,2,3]\n",
        "- (1,2)\n",
        "- {\"name\": \"Max\", \"alter\": 22}\n"
      ],
      "metadata": {
        "id": "Em4WQGm888Mc"
      }
    },
    {
      "cell_type": "code",
      "source": [
        "a=42\n",
        "b=3.14\n",
        "c=\"Hallo Welt\"\n",
        "d=True\n",
        "e=[1,2,3]\n",
        "f=[1,2]\n",
        "g={\"name\":\"Max\",\"alter\":22}\n",
        "\n",
        "print(type(a))\n",
        "print(type(b))\n",
        "print(type(c))\n",
        "print(type(d))\n",
        "print(type(e))\n",
        "print(type(f))\n",
        "print(type(g))"
      ],
      "metadata": {
        "id": "JOudTf8Q9aPJ",
        "colab": {
          "base_uri": "https://localhost:8080/"
        },
        "outputId": "973042b9-638f-4fd9-f063-8e69750da83f"
      },
      "execution_count": 40,
      "outputs": [
        {
          "output_type": "stream",
          "name": "stdout",
          "text": [
            "<class 'int'>\n",
            "<class 'float'>\n",
            "<class 'str'>\n",
            "<class 'bool'>\n",
            "<class 'list'>\n",
            "<class 'list'>\n",
            "<class 'dict'>\n"
          ]
        }
      ]
    },
    {
      "cell_type": "markdown",
      "source": [
        "### Aufgabe 2\n",
        "Bestimme jeweils um welche Art des Datentyps es sich handelt"
      ],
      "metadata": {
        "id": "gnrmw0w79abL"
      }
    },
    {
      "cell_type": "markdown",
      "source": [
        "\n",
        "<class 'int'>      -> Ganzzahl\n",
        "<class 'float'>    -> Fliesskommazahl\n",
        "<class 'str'>      -> String\n",
        "<class 'bool'>     -> Boolean\n",
        "<class 'list'>     -> Liste\n",
        "<class 'tuple'>    -> Tupel\n",
        "<class 'dict'>     -> Dictionary"
      ],
      "metadata": {
        "id": "uM-IpReO9b_R"
      }
    },
    {
      "cell_type": "markdown",
      "source": [
        "### Aufgabe 3\n",
        "Recherchiere nach dem Begriff Duck Typing in Python. Was bedeutet das?"
      ],
      "metadata": {
        "id": "Q1HHvqkv9cgx"
      }
    },
    {
      "cell_type": "markdown",
      "source": [
        "Ententippen ist ein Konzept in der Programmierung, das oft mit dynamischen Sprachen wie Python zusammenhängt, das mehr über das Verhalten des Objekts gegenüber seiner Art oder Klasse betont. Wenn Sie Ententippen verwenden, überprüfen Sie, ob ein Objekt bestimmte Methoden oder Attribute hat, anstatt auf die genaue Klasse zu überprüfen. Der Name kommt vom Sprichwort,\n",
        "\n",
        "\n",
        "\n",
        "    Wenn es wie eine Ente aussieht, wie eine Ente schwimmt und wie eine Ente quackt, dann ist es wahrscheinlich eine Ente.\n",
        "\n",
        "\n",
        "\n",
        "Ententippen bringt mehrere Vorteile in der Programmierung in Python. Es ermöglicht einen flexibleren und wiederverwendbaren Code und unterstützt Polymorphismus, so dass verschiedene Objekttypen austauschbar verwendet werden können, solange sie die erforderliche Schnittstelle bieten. Das führt zu einfacherem und präsiserem Code. Die Ententippen hat aber auch ihre Nachteile. Ein großer Nachteil ist das Potenzial für Laufzeitfehler. Darüber hinaus kann es Ihren Code schwierig zu verstehen machen."
      ],
      "metadata": {
        "id": "mOfhQQUK9lhu"
      }
    }
  ]
}