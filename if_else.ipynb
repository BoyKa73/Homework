{
  "nbformat": 4,
  "nbformat_minor": 0,
  "metadata": {
    "colab": {
      "provenance": [],
      "include_colab_link": true
    },
    "kernelspec": {
      "name": "python3",
      "display_name": "Python 3"
    },
    "language_info": {
      "name": "python"
    }
  },
  "cells": [
    {
      "cell_type": "markdown",
      "metadata": {
        "id": "view-in-github",
        "colab_type": "text"
      },
      "source": [
        "<a href=\"https://colab.research.google.com/github/BoyKa73/Homework/blob/main/if_else.ipynb\" target=\"_parent\"><img src=\"https://colab.research.google.com/assets/colab-badge.svg\" alt=\"Open In Colab\"/></a>"
      ]
    },
    {
      "cell_type": "markdown",
      "source": [
        "## Aufgaben für if-else-Verzweigungen\n",
        "\n",
        "\n",
        "1.  Schreibe ein Programm, das eine Zahl überprüft: Wenn die Zahl negativ ist, gib \"Negativ\" aus, wenn 0 gib \"Null\" aus, wenn positiv, dann \"Positiv\"\n",
        "2.   Erstelle eine if-elif-else-Struktur, die eine Temperatur bewertet: Bei unter 0 Grad: \"Sehr kalt\", bei 0-10 Grad: \"Kalt\", bei 11-20 Grad: \"Mild\", bei 21-30 Grad: \"Warm\", bei über 30 Grad: \"Heiß\""
      ],
      "metadata": {
        "id": "abi1Aq6Pt7im"
      }
    },
    {
      "cell_type": "code",
      "source": [
        "zahl=-0\n",
        "if (zahl == 0):\n",
        " print(\"null\")\n",
        "elif(zahl<0):\n",
        " print(\"negativ\")\n",
        "elif(zahl>0):\n",
        " print(\"positiv\")\n",
        "\n",
        "\n",
        "\n"
      ],
      "metadata": {
        "id": "WGPde5_fxwNk",
        "outputId": "69fe6454-3478-4111-8253-faa8a4e74285",
        "colab": {
          "base_uri": "https://localhost:8080/"
        }
      },
      "execution_count": 19,
      "outputs": [
        {
          "output_type": "stream",
          "name": "stdout",
          "text": [
            "null\n"
          ]
        }
      ]
    },
    {
      "cell_type": "code",
      "source": [
        "temperatur=32\n",
        "\n",
        "if  temperatur <0:\n",
        "  print(\"Sehr kalt!\")\n",
        "elif  temperatur >0 and temperatur <10:\n",
        "  print(\"kalt!\")\n",
        "elif  temperatur >11 and temperatur <20:\n",
        "  print(\"mild!\")\n",
        "elif  temperatur >21 and temperatur <30:\n",
        "  print(\"warm!\")\n",
        "elif temperatur >30:\n",
        "  print(\"heiß!\")\n"
      ],
      "metadata": {
        "id": "rF2gL04Xx8qf",
        "outputId": "3df59b58-ce55-4f71-a3a3-9261580fcf93",
        "colab": {
          "base_uri": "https://localhost:8080/"
        }
      },
      "execution_count": 36,
      "outputs": [
        {
          "output_type": "stream",
          "name": "stdout",
          "text": [
            "heiß!\n"
          ]
        }
      ]
    },
    {
      "cell_type": "code",
      "source": [],
      "metadata": {
        "id": "I9Gvb_yk2_dM"
      },
      "execution_count": null,
      "outputs": []
    }
  ]
}